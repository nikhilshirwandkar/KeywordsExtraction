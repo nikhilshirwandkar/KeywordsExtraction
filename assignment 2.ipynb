{
 "cells": [
  {
   "cell_type": "code",
   "execution_count": 228,
   "metadata": {},
   "outputs": [
    {
     "name": "stdout",
     "output_type": "stream",
     "text": [
      "[('java', 0.5060721543419352), ('methods', 0.24732495317386946), ('applet', 0.24178577263476009), ('classes', 0.21980037796910809), ('object', 0.19063637137020734), ('programming', 0.16324252925172408), ('ints', 0.15371244243850471), ('code', 0.13825559362183554), ('strings', 0.13356694902356744), ('basic', 0.12195641570066126), ('button', 0.11896034837367873), ('new', 0.11483986602118569), ('arrays', 0.10851490767551454), ('data', 0.10661206509923592), ('public', 0.098566556964812924), ('allocated', 0.08192407238783174), ('constants', 0.079104756634486947), ('files', 0.078991568574405729), ('browser', 0.07844280630528086), ('memory', 0.078228392323365731), ('follows', 0.076400225704701244), ('operators', 0.07154070344335961), ('basicsjava', 0.070905391426047557), ('garbage', 0.065261521708699657), ('referred', 0.064367931727438071), ('commenting', 0.061498697896333818), ('void', 0.061000216543672006), ('reserve', 0.060924614835474213), ('expr', 0.059153122214849606), ('application', 0.059023235429584743), ('contained', 0.057973516576163904), ('args', 0.057656464084364763), ('types', 0.056652337034822572), ('variables', 0.05615865184970191), ('main', 0.055791524180613554), ('compilation', 0.051700476866068018), ('bit', 0.0516590436979847), ('dynamically', 0.051389433370704105), ('null', 0.050883955341561364), ('width', 0.050687581969100795), ('stacks', 0.050625236118043655), ('simple', 0.04985918807676161), ('useful', 0.049073053589138764), ('stats', 0.048586627465915258), ('example', 0.048352014145684248), ('definitions', 0.048230224077791484), ('line', 0.047973725496561953), ('intentionally left', 0.047829007492034906), ('note', 0.047674491382929625), ('primitive', 0.047567020676790764), ('created', 0.046119285520704115), ('parameter', 0.046013677670111872), ('literal', 0.045781541204551378), ('exception', 0.045588747014715693), ('final', 0.045179234902620859), ('automatic', 0.045158300192881806), ('define', 0.044706170867907867), ('return', 0.04436534442670706), ('boolean', 0.043401663148608056), ('thread', 0.043359708987940226), ('gui inthis', 0.042058844409988833), ('including', 0.041986046204713856), ('environment', 0.040613692775983611), ('address', 0.040472502146331489), ('comparison', 0.040432264771748654), ('literaltrue', 0.040432264771748112), ('stop', 0.040323379347559307), ('instantiated', 0.040140113662838914), ('platform', 0.039930620911312109), ('predefined', 0.039551718041815245), ('window', 0.039478826423852448), ('integer', 0.039186904774506356), ('specific', 0.039063811001480361), ('statement', 0.038855508847342672), ('byte', 0.038613725102575901), ('shows', 0.038535039293649043), ('trivialapplication', 0.038306432355503899), ('hello', 0.037297618581821672), ('element', 0.037192573769617675), ('collection', 0.037014580228908113), ('assignments', 0.036364782005465092), ('calling', 0.036217073216248973), ('typename', 0.035692557282682447), ('instance', 0.035332840752839829), ('values', 0.035331843181859501), ('push', 0.035054806831350954), ('effects', 0.034599615337907376), ('html', 0.034316921216280535), ('alt', 0.03405982523747577), ('align', 0.034059825237475722), ('clone', 0.033829098027402305), ('runtime', 0.033760856987597967), ('unlike', 0.033390197203479986), ('draw', 0.033251786649890772), ('arithmetic', 0.033150895749240232), ('archives', 0.033122616432667444), ('source', 0.033111588613964384), ('interpreter', 0.032917578159232332), ('tothe', 0.032188270590622063), ('looks', 0.031767173634670694), ('length', 0.031683278149205567), ('superclass', 0.031185334848728746), ('namelistqualified', 0.030940425215995101), ('declaration', 0.030809203286239251), ('equivalent', 0.030710234049354544)]\n",
      "105\n"
     ]
    }
   ],
   "source": [
    "import PyPDF2\n",
    "from gensim.summarization import keywords\n",
    "import pandas as pd\n",
    "import nltk\n",
    "\n",
    "file = open('JavaBasics-notes.pdf', 'rb')\n",
    "readpdf = PyPDF2.PdfFileReader(file)\n",
    "num_pages = readpdf.numPages\n",
    "data = \"\"\n",
    "for pages in range(num_pages):\n",
    "    page = pdfReader.getPage(pages)\n",
    "    data += page.extractText()\n",
    "if data != \"\":\n",
    "    data = data\n",
    "values = keywords(data,scores=True, lemmatize= True)\n",
    "print(values)\n",
    "print(len(values))\n",
    "\n",
    "dataframe = pd.DataFrame(values,columns=['keywords','weights'])\n",
    "dataframe.to_csv(\"testcsv.csv\", index=False)"
   ]
  },
  {
   "cell_type": "code",
   "execution_count": null,
   "metadata": {
    "collapsed": true
   },
   "outputs": [],
   "source": []
  }
 ],
 "metadata": {
  "kernelspec": {
   "display_name": "Python 3",
   "language": "python",
   "name": "python3"
  },
  "language_info": {
   "codemirror_mode": {
    "name": "ipython",
    "version": 3
   },
   "file_extension": ".py",
   "mimetype": "text/x-python",
   "name": "python",
   "nbconvert_exporter": "python",
   "pygments_lexer": "ipython3",
   "version": "3.6.3"
  }
 },
 "nbformat": 4,
 "nbformat_minor": 2
}
